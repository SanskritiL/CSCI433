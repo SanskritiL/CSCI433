{
 "cells": [
  {
   "cell_type": "code",
   "execution_count": null,
   "metadata": {
    "scrolled": true
   },
   "outputs": [],
   "source": [
    "#Name: Sanskriti Lamsal\n",
    "#StudentID: 10619390\n",
    "#This work is mine. I didn't receive any external assistance for this project. \n",
    "#Project 2 Replacing Midterm 3"
   ]
  },
  {
   "cell_type": "code",
   "execution_count": 163,
   "metadata": {},
   "outputs": [
    {
     "name": "stdout",
     "output_type": "stream",
     "text": [
      "[[82 10 16 15 66]\n",
      " [91 28 98 43  4]\n",
      " [13 55 96 92 85]\n",
      " [92 96 49 80 94]\n",
      " [64 97 81 96 68]]\n"
     ]
    }
   ],
   "source": [
    "import numpy as np\n",
    "array = np.loadtxt(\"/Users/sanskritilamsal/Desktop/matrix.txt\", dtype='i', delimiter=' ')\n",
    "print(array)"
   ]
  },
  {
   "cell_type": "code",
   "execution_count": 164,
   "metadata": {},
   "outputs": [
    {
     "name": "stdout",
     "output_type": "stream",
     "text": [
      "Please enter an integer:\n",
      "50\n"
     ]
    }
   ],
   "source": [
    "value = int(input(\"Please enter an integer:\\n\"))\n"
   ]
  },
  {
   "cell_type": "code",
   "execution_count": 167,
   "metadata": {},
   "outputs": [
    {
     "name": "stdout",
     "output_type": "stream",
     "text": [
      "The k value is:  50\n",
      "Maximum Submatrix size is:  2\n",
      "Bottom co-ordinates:  [(4, 5), (5, 2), (5, 5)]\n"
     ]
    },
    {
     "data": {
      "text/plain": [
       "2"
      ]
     },
     "execution_count": 167,
     "metadata": {},
     "output_type": "execute_result"
    }
   ],
   "source": [
    "class Position:\n",
    "    def __init__(self, first, second):\n",
    "      self.first = first\n",
    "      self.second = second\n",
    "\n",
    "\n",
    "def printMaxSqaureSubMatrix(arr, kval):\n",
    "        print(\"The k value is: \",kval)\n",
    "        row = len(arr) #no.of rows\n",
    "        if(row==0):\n",
    "            return\n",
    "       \n",
    "        column = len(arr[0]) #no. of column\n",
    "        if(column==0):\n",
    "            return\n",
    "        \n",
    "        bit_array = [[0 for i in range(row)] for j in range(column)]\n",
    "        sizes = [[0 for i in range(row)] for j in range(column)] #sizes matrix will keep track of the maximum submatrix number\n",
    "        \n",
    "        #bit array is created so that we can have a bool-type matrix\n",
    "        \n",
    "        for i in range(0,row): #fill rest of the matrix\n",
    "            for j in range(0,column):\n",
    "                if(arr[i][j] > kval):\n",
    "                    bit_array[i][j] = 1 #setting val to 1 if value in arrayElem>kval\n",
    "                else:\n",
    "                    bit_array[i][j] = 0 #setting val to 1 if value in !(arrayElem>kval)        \n",
    "        maximum = 0\n",
    "        coordinates = []       \n",
    "            \n",
    "        for i in range(0,row): #fill rest of the matrix\n",
    "            for j in range(0,column):\n",
    "                if i==0 or j==0:                   \n",
    "                    sizes[i][j] = bit_array[i][j]\n",
    "                elif(bit_array[i][j] == 1):\n",
    "                    sizes[i][j] = min(min(sizes[i][j-1],sizes[i-1][j]),sizes[i-1][j-1])+1\n",
    "                if(sizes[i][j] >= maximum):  \n",
    "                    if(sizes[i][j] > maximum): #reset the coordinates array\n",
    "                        coordinates=[]\n",
    "                        maximum = sizes[i][j]\n",
    "                        coordinates.append((i+1,j+1))\n",
    "                    else: \n",
    "                        coordinates.append((i+1,j+1))\n",
    "                \n",
    "        \n",
    "        print(\"Maximum Submatrix size is: \", maximum)\n",
    "        print(\"Bottom co-ordinates: \",coordinates)\n",
    "        return maximum                \n",
    "                 \n",
    "\n",
    "                \n",
    "\n",
    "printMaxSqaureSubMatrix(array, value)\n"
   ]
  },
  {
   "cell_type": "code",
   "execution_count": null,
   "metadata": {},
   "outputs": [],
   "source": []
  },
  {
   "cell_type": "code",
   "execution_count": null,
   "metadata": {},
   "outputs": [],
   "source": []
  },
  {
   "cell_type": "code",
   "execution_count": null,
   "metadata": {},
   "outputs": [],
   "source": []
  }
 ],
 "metadata": {
  "kernelspec": {
   "display_name": "Python 3",
   "language": "python",
   "name": "python3"
  },
  "language_info": {
   "codemirror_mode": {
    "name": "ipython",
    "version": 3
   },
   "file_extension": ".py",
   "mimetype": "text/x-python",
   "name": "python",
   "nbconvert_exporter": "python",
   "pygments_lexer": "ipython3",
   "version": "3.7.6"
  }
 },
 "nbformat": 4,
 "nbformat_minor": 4
}
